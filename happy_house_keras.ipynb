{
 "cells": [
  {
   "cell_type": "code",
   "execution_count": 24,
   "metadata": {},
   "outputs": [],
   "source": [
    "import keras.backend as K\n",
    "import math\n",
    "import numpy as np\n",
    "import h5py\n",
    "import matplotlib.pyplot as plt\n",
    "\n",
    "\n",
    "def mean_pred(y_true, y_pred):\n",
    "    return K.mean(y_pred)\n",
    "\n",
    "def load_dataset():\n",
    "    train_dataset = h5py.File('train_happy.h5', \"r\")\n",
    "    train_set_x_orig = np.array(train_dataset[\"train_set_x\"][:]) # your train set features\n",
    "    train_set_y_orig = np.array(train_dataset[\"train_set_y\"][:]) # your train set labels\n",
    "\n",
    "    test_dataset = h5py.File('test_happy.h5', \"r\")\n",
    "    test_set_x_orig = np.array(test_dataset[\"test_set_x\"][:]) # your test set features\n",
    "    test_set_y_orig = np.array(test_dataset[\"test_set_y\"][:]) # your test set labels\n",
    "\n",
    "    classes = np.array(test_dataset[\"list_classes\"][:]) # the list of classes\n",
    "    \n",
    "    train_set_y_orig = train_set_y_orig.reshape((1, train_set_y_orig.shape[0]))\n",
    "    test_set_y_orig = test_set_y_orig.reshape((1, test_set_y_orig.shape[0]))\n",
    "    \n",
    "    return train_set_x_orig, train_set_y_orig, test_set_x_orig, test_set_y_orig, classes\n",
    "\n"
   ]
  },
  {
   "cell_type": "code",
   "execution_count": 25,
   "metadata": {},
   "outputs": [],
   "source": [
    "import numpy as np\n",
    "from keras import layers\n",
    "from keras.layers import Input, Dense, Activation, ZeroPadding2D, BatchNormalization, Flatten, Conv2D\n",
    "from keras.layers import AveragePooling2D, MaxPooling2D, Dropout, GlobalMaxPooling2D, GlobalAveragePooling2D\n",
    "from keras.models import Model\n",
    "from keras.preprocessing import image\n",
    "from keras.utils import layer_utils\n",
    "from keras.utils.data_utils import get_file\n",
    "from keras.applications.imagenet_utils import preprocess_input\n",
    "import pydot\n",
    "from IPython.display import SVG\n",
    "from keras.utils.vis_utils import model_to_dot\n",
    "from keras.utils import plot_model\n",
    "#from kt_utils import *\n",
    "\n",
    "import keras.backend as K\n",
    "K.set_image_data_format('channels_last')\n",
    "import matplotlib.pyplot as plt\n",
    "from matplotlib.pyplot import imshow\n",
    "\n",
    "%matplotlib inline"
   ]
  },
  {
   "cell_type": "code",
   "execution_count": 26,
   "metadata": {},
   "outputs": [
    {
     "name": "stdout",
     "output_type": "stream",
     "text": [
      "number of training examples = 600\n",
      "number of test examples = 150\n",
      "X_train shape: (600, 64, 64, 3)\n",
      "Y_train shape: (600, 1)\n",
      "X_test shape: (150, 64, 64, 3)\n",
      "Y_test shape: (150, 1)\n"
     ]
    }
   ],
   "source": [
    "X_train_orig, Y_train_orig, X_test_orig, Y_test_orig, classes = load_dataset()\n",
    "\n",
    "# Normalize image vectors\n",
    "X_train = X_train_orig/255.\n",
    "X_test = X_test_orig/255.\n",
    "\n",
    "# Reshape\n",
    "Y_train = Y_train_orig.T\n",
    "Y_test = Y_test_orig.T\n",
    "\n",
    "print (\"number of training examples = \" + str(X_train.shape[0]))\n",
    "print (\"number of test examples = \" + str(X_test.shape[0]))\n",
    "print (\"X_train shape: \" + str(X_train.shape))\n",
    "print (\"Y_train shape: \" + str(Y_train.shape))\n",
    "print (\"X_test shape: \" + str(X_test.shape))\n",
    "print (\"Y_test shape: \" + str(Y_test.shape))"
   ]
  },
  {
   "cell_type": "code",
   "execution_count": 27,
   "metadata": {},
   "outputs": [],
   "source": [
    "\n",
    "def HappyModel(input_shape):\n",
    "    \n",
    "\n",
    "   # Define the input placeholder as a tensor with shape input_shape. \n",
    "    X_input = Input(input_shape)\n",
    "\n",
    "    # Zero-Padding: pads the border of X_input with zeroes\n",
    "    X = ZeroPadding2D((3, 3))(X_input)\n",
    "\n",
    "    # CONV -> BN -> RELU Block applied to X\n",
    "    X = Conv2D(32, (7, 7), strides = (1, 1), name = 'conv0')(X)\n",
    "    X = BatchNormalization(axis = 3, name = 'bn0')(X)\n",
    "    X = Activation('relu')(X)\n",
    "\n",
    "    # MAXPOOL\n",
    "    X = MaxPooling2D((2, 2), name='max_pool')(X)\n",
    "    \n",
    "    # Zero-Padding: pads the border of X_input with zeroes\n",
    "    X = ZeroPadding2D((3, 3))(X)\n",
    "    \n",
    "    # CONV -> RELU Block applied to X\n",
    "    X = Conv2D(64, (7, 7), strides = (1, 1), name = 'conv1')(X)\n",
    "    X = Activation('relu')(X)\n",
    "\n",
    "    # MAXPOOL\n",
    "    X = AveragePooling2D((2, 2), name='avg_pool')(X)\n",
    "\n",
    "    # FLATTEN X (means convert it to a vector) + FULLYCONNECTED\n",
    "    X = Flatten()(X)\n",
    "    X = Dense(1, activation='sigmoid', name='fc')(X)\n",
    "\n",
    "    # Create model. This creates your Keras model instance.\n",
    "    model = Model(inputs = X_input, outputs = X, name='HappyModel')\n",
    "\n",
    "    \n",
    "    return model"
   ]
  },
  {
   "cell_type": "code",
   "execution_count": 29,
   "metadata": {},
   "outputs": [],
   "source": [
    "\n",
    "happyModel = HappyModel(X_train.shape[1:])\n"
   ]
  },
  {
   "cell_type": "code",
   "execution_count": 30,
   "metadata": {},
   "outputs": [],
   "source": [
    "\n",
    "happyModel.compile(optimizer = \"adam\", loss = \"mean_squared_error\", metrics = [\"accuracy\"])\n"
   ]
  },
  {
   "cell_type": "code",
   "execution_count": 31,
   "metadata": {},
   "outputs": [
    {
     "name": "stdout",
     "output_type": "stream",
     "text": [
      "WARNING:tensorflow:From C:\\Users\\Pankaj Kumar\\Anaconda3\\envs\\Tensorflow\\lib\\site-packages\\tensorflow\\python\\ops\\math_ops.py:3066: to_int32 (from tensorflow.python.ops.math_ops) is deprecated and will be removed in a future version.\n",
      "Instructions for updating:\n",
      "Use tf.cast instead.\n",
      "Epoch 1/40\n",
      "600/600 [==============================] - 67s 111ms/step - loss: 0.1889 - acc: 0.7450\n",
      "Epoch 2/40\n",
      "600/600 [==============================] - 64s 106ms/step - loss: 0.0846 - acc: 0.8983\n",
      "Epoch 3/40\n",
      "600/600 [==============================] - 64s 107ms/step - loss: 0.0570 - acc: 0.9333\n",
      "Epoch 4/40\n",
      "600/600 [==============================] - 65s 108ms/step - loss: 0.0529 - acc: 0.9300\n",
      "Epoch 5/40\n",
      "600/600 [==============================] - 65s 109ms/step - loss: 0.0378 - acc: 0.9567\n",
      "Epoch 6/40\n",
      "600/600 [==============================] - 66s 111ms/step - loss: 0.0274 - acc: 0.9683\n",
      "Epoch 7/40\n",
      "600/600 [==============================] - 65s 108ms/step - loss: 0.0280 - acc: 0.9683\n",
      "Epoch 8/40\n",
      "600/600 [==============================] - 64s 107ms/step - loss: 0.0254 - acc: 0.9750\n",
      "Epoch 9/40\n",
      "600/600 [==============================] - 64s 106ms/step - loss: 0.0245 - acc: 0.9700\n",
      "Epoch 10/40\n",
      "600/600 [==============================] - 63s 106ms/step - loss: 0.0304 - acc: 0.9600\n",
      "Epoch 11/40\n",
      "600/600 [==============================] - 63s 105ms/step - loss: 0.0223 - acc: 0.9717\n",
      "Epoch 12/40\n",
      "600/600 [==============================] - 63s 106ms/step - loss: 0.0189 - acc: 0.9750\n",
      "Epoch 13/40\n",
      "600/600 [==============================] - 64s 106ms/step - loss: 0.0146 - acc: 0.9833\n",
      "Epoch 14/40\n",
      "600/600 [==============================] - 63s 105ms/step - loss: 0.0272 - acc: 0.9667\n",
      "Epoch 15/40\n",
      "600/600 [==============================] - 63s 105ms/step - loss: 0.0173 - acc: 0.9817\n",
      "Epoch 16/40\n",
      "600/600 [==============================] - 63s 105ms/step - loss: 0.0154 - acc: 0.9867\n",
      "Epoch 17/40\n",
      "600/600 [==============================] - 64s 106ms/step - loss: 0.0142 - acc: 0.9833\n",
      "Epoch 18/40\n",
      "600/600 [==============================] - 64s 106ms/step - loss: 0.0107 - acc: 0.9883\n",
      "Epoch 19/40\n",
      "600/600 [==============================] - 65s 108ms/step - loss: 0.0133 - acc: 0.9850\n",
      "Epoch 20/40\n",
      "600/600 [==============================] - 63s 105ms/step - loss: 0.0182 - acc: 0.9767\n",
      "Epoch 21/40\n",
      "600/600 [==============================] - 63s 106ms/step - loss: 0.0151 - acc: 0.9817\n",
      "Epoch 22/40\n",
      "600/600 [==============================] - 63s 106ms/step - loss: 0.0118 - acc: 0.9833\n",
      "Epoch 23/40\n",
      "600/600 [==============================] - 64s 106ms/step - loss: 0.0118 - acc: 0.9867\n",
      "Epoch 24/40\n",
      "600/600 [==============================] - 63s 105ms/step - loss: 0.0116 - acc: 0.9883\n",
      "Epoch 25/40\n",
      "600/600 [==============================] - 64s 106ms/step - loss: 0.0097 - acc: 0.9917\n",
      "Epoch 26/40\n",
      "600/600 [==============================] - 63s 106ms/step - loss: 0.0094 - acc: 0.9900\n",
      "Epoch 27/40\n",
      "600/600 [==============================] - 64s 106ms/step - loss: 0.0079 - acc: 0.9933\n",
      "Epoch 28/40\n",
      "600/600 [==============================] - 64s 106ms/step - loss: 0.0072 - acc: 0.9933\n",
      "Epoch 29/40\n",
      "600/600 [==============================] - 64s 106ms/step - loss: 0.0070 - acc: 0.9933\n",
      "Epoch 30/40\n",
      "600/600 [==============================] - 64s 106ms/step - loss: 0.0068 - acc: 0.9933\n",
      "Epoch 31/40\n",
      "600/600 [==============================] - 64s 106ms/step - loss: 0.0068 - acc: 0.9933\n",
      "Epoch 32/40\n",
      "600/600 [==============================] - 64s 106ms/step - loss: 0.0067 - acc: 0.9933\n",
      "Epoch 33/40\n",
      "600/600 [==============================] - 63s 105ms/step - loss: 0.0067 - acc: 0.9933\n",
      "Epoch 34/40\n",
      "600/600 [==============================] - 64s 106ms/step - loss: 0.0066 - acc: 0.9933\n",
      "Epoch 35/40\n",
      "600/600 [==============================] - 63s 106ms/step - loss: 0.0066 - acc: 0.9933\n",
      "Epoch 36/40\n",
      "600/600 [==============================] - 63s 106ms/step - loss: 0.0073 - acc: 0.9917\n",
      "Epoch 37/40\n",
      "600/600 [==============================] - 66s 110ms/step - loss: 0.0068 - acc: 0.9933\n",
      "Epoch 38/40\n",
      "600/600 [==============================] - 64s 106ms/step - loss: 0.0079 - acc: 0.9917\n",
      "Epoch 39/40\n",
      "600/600 [==============================] - 64s 106ms/step - loss: 0.0096 - acc: 0.9900\n",
      "Epoch 40/40\n",
      "600/600 [==============================] - 64s 106ms/step - loss: 0.0074 - acc: 0.9933\n"
     ]
    },
    {
     "data": {
      "text/plain": [
       "<keras.callbacks.History at 0x2acc5fedda0>"
      ]
     },
     "execution_count": 31,
     "metadata": {},
     "output_type": "execute_result"
    }
   ],
   "source": [
    "\n",
    "happyModel.fit( x= X_train, y = Y_train, epochs = 40, batch_size = 32)\n"
   ]
  },
  {
   "cell_type": "code",
   "execution_count": 33,
   "metadata": {},
   "outputs": [
    {
     "name": "stdout",
     "output_type": "stream",
     "text": [
      "150/150 [==============================] - 7s 49ms/step\n",
      "\n",
      "Loss = 0.020494073120256265\n",
      "Test Accuracy = 0.98\n"
     ]
    }
   ],
   "source": [
    "\n",
    "preds = happyModel.evaluate(x = X_test, y = Y_test)\n",
    "\n",
    "print()\n",
    "print (\"Loss = \" + str(preds[0]))\n",
    "print (\"Test Accuracy = \" + str(preds[1]))"
   ]
  },
  {
   "cell_type": "code",
   "execution_count": null,
   "metadata": {},
   "outputs": [],
   "source": [
    "# Image testing can be done here.\n",
    "img_path = 'enter image path'\n",
    "img = image.load_img(img_path, target_size=(64, 64))\n",
    "imshow(img)\n",
    "\n",
    "x = image.img_to_array(img)\n",
    "x = np.expand_dims(x, axis=0)\n",
    "x = preprocess_input(x)\n",
    "\n",
    "print(happyModel.predict(x))"
   ]
  }
 ],
 "metadata": {
  "kernelspec": {
   "display_name": "Python 3",
   "language": "python",
   "name": "python3"
  },
  "language_info": {
   "codemirror_mode": {
    "name": "ipython",
    "version": 3
   },
   "file_extension": ".py",
   "mimetype": "text/x-python",
   "name": "python",
   "nbconvert_exporter": "python",
   "pygments_lexer": "ipython3",
   "version": "3.7.3"
  }
 },
 "nbformat": 4,
 "nbformat_minor": 2
}
